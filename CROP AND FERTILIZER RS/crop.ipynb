{
 "cells": [
  {
   "cell_type": "markdown",
   "metadata": {},
   "source": [
    "## Crop and Fertilizer Recommendation System using ML"
   ]
  },
  {
   "cell_type": "code",
   "execution_count": 47,
   "metadata": {},
   "outputs": [],
   "source": [
    "# Importing necessary libraries with error handling\n",
    "try:\n",
    "    import numpy as np  # For numerical computations\n",
    "    import pandas as pd  # For data manipulation\n",
    "    import matplotlib.pyplot as plt  # For data visualization\n",
    "    import seaborn as sns  # For advanced statistical visualization\n",
    "    \n",
    "    plt.ion()  # Enable interactive mode for Matplotlib\n",
    "    \n",
    "except ImportError as e:\n",
    "    missing_lib = str(e).split(\" \")[2]  # Extract the name of the missing library\n",
    "    print(f\"{missing_lib.capitalize()} is not installed. Please install the required libraries.\")\n",
    "    raise ImportError(f\"{missing_lib} is required for this code to run.\")\n"
   ]
  },
  {
   "cell_type": "code",
   "execution_count": 61,
   "metadata": {},
   "outputs": [
    {
     "name": "stdout",
     "output_type": "stream",
     "text": [
      "Dataset loaded successfully.\n"
     ]
    }
   ],
   "source": [
    "import os  #  Importing OS Module  To check if the file exists\n",
    "\n",
    "# Defining  the file path\n",
    "file_path = \"Crop_recommendation.csv\"\n",
    "\n",
    "# Check if the file exists\n",
    "if not file_path.endswith('.csv'):\n",
    "    print(f\"Error: The file '{file_path}' is not a CSV file.\")\n",
    "if not os.path.exists(file_path):\n",
    "    print(f\"Error: The file '{file_path}' does not exist.\")\n",
    "    crop = None\n",
    "else:\n",
    "    try:\n",
    "        # Load the dataset into a pandas DataFrame\n",
    "        crop = pd.read_csv(file_path)\n",
    "        print(\"Dataset loaded successfully.\")\n",
    "    except pd.errors.EmptyDataError:\n",
    "        print(f\"Error: The file '{file_path}' is empty.\")\n",
    "        crop = None\n",
    "    except pd.errors.ParserError:\n",
    "        print(f\"Error: Failed to parse the file '{file_path}'. Please check the file format.\")\n",
    "        crop = None\n"
   ]
  },
  {
   "cell_type": "code",
   "execution_count": 51,
   "metadata": {},
   "outputs": [
    {
     "name": "stdout",
     "output_type": "stream",
     "text": [
      "First ten (10) rows of the dataset:\n",
      "    N   P   K  temperature   humidity        ph    rainfall label\n",
      "0  90  42  43    20.879744  82.002744  6.502985  202.935536  rice\n",
      "1  85  58  41    21.770462  80.319644  7.038096  226.655537  rice\n",
      "2  60  55  44    23.004459  82.320763  7.840207  263.964248  rice\n",
      "3  74  35  40    26.491096  80.158363  6.980401  242.864034  rice\n",
      "4  78  42  42    20.130175  81.604873  7.628473  262.717340  rice\n",
      "5  69  37  42    23.058049  83.370118  7.073454  251.055000  rice\n",
      "6  69  55  38    22.708838  82.639414  5.700806  271.324860  rice\n",
      "7  94  53  40    20.277744  82.894086  5.718627  241.974195  rice\n",
      "8  89  54  38    24.515881  83.535216  6.685346  230.446236  rice\n",
      "9  68  58  38    23.223974  83.033227  6.336254  221.209196  rice\n",
      "\n",
      "Last ten (10) rows of the dataset:\n",
      "        N   P   K  temperature   humidity        ph    rainfall   label\n",
      "2190  103  40  30    27.309018  55.196224  6.348316  141.483164  coffee\n",
      "2191  118  31  34    27.548230  62.881792  6.123796  181.417081  coffee\n",
      "2192  106  21  35    25.627355  57.041511  7.428524  188.550654  coffee\n",
      "2193  116  38  34    23.292503  50.045570  6.020947  183.468585  coffee\n",
      "2194   97  35  26    24.914610  53.741447  6.334610  166.254931  coffee\n",
      "2195  107  34  32    26.774637  66.413269  6.780064  177.774507  coffee\n",
      "2196   99  15  27    27.417112  56.636362  6.086922  127.924610  coffee\n",
      "2197  118  33  30    24.131797  67.225123  6.362608  173.322839  coffee\n",
      "2198  117  32  34    26.272418  52.127394  6.758793  127.175293  coffee\n",
      "2199  104  18  30    23.603016  60.396475  6.779833  140.937041  coffee\n"
     ]
    }
   ],
   "source": [
    "# checking the 'crop' DataFrame is none or empty\n",
    "if crop is None or crop.empty:\n",
    "    # If the dataframe is either None or Empty, print an error message\n",
    "    print(\"Error: The dataset could not be loaded or is empty.\")\n",
    "else:\n",
    "    # If the DataFrame is loaded and not empty, display the first ten rows of the dataset\n",
    "    print(\"First ten (10) rows of the dataset:\")\n",
    "    print(crop.head(10))\n",
    "    # Print a separator line before displaying the last ten rows\n",
    "    print(\"\\nLast ten (10) rows of the dataset:\")\n",
    "    print(crop.tail(10))\n"
   ]
  },
  {
   "cell_type": "code",
   "execution_count": 52,
   "metadata": {},
   "outputs": [
    {
     "name": "stdout",
     "output_type": "stream",
     "text": [
      "The dataset contains 2200 rows and 8 columns.\n"
     ]
    }
   ],
   "source": [
    "\n",
    "if crop.shape[0] == 0: # Displays the number of rows in the DataFrame.\n",
    "     print(\"The dataset has no rows .Please check the data source.\")\n",
    "elif crop.shape[1] == 0: # Displays the number of columns in the DataFrame.\n",
    "    print(\"The dataset has no columns.Please check the file format.\")\n",
    "else: # Displays both the number of rows as well as columns in the DataFrame.\n",
    "    print(f\"The dataset contains {crop.shape[0]} rows and {crop.shape[1]} columns.\")\n"
   ]
  },
  {
   "cell_type": "code",
   "execution_count": 55,
   "metadata": {},
   "outputs": [
    {
     "name": "stdout",
     "output_type": "stream",
     "text": [
      "Displaying basic information about the dataset:\n",
      "<class 'pandas.core.frame.DataFrame'>\n",
      "RangeIndex: 2200 entries, 0 to 2199\n",
      "Data columns (total 8 columns):\n",
      " #   Column       Non-Null Count  Dtype  \n",
      "---  ------       --------------  -----  \n",
      " 0   N            2200 non-null   int64  \n",
      " 1   P            2200 non-null   int64  \n",
      " 2   K            2200 non-null   int64  \n",
      " 3   temperature  2200 non-null   float64\n",
      " 4   humidity     2200 non-null   float64\n",
      " 5   ph           2200 non-null   float64\n",
      " 6   rainfall     2200 non-null   float64\n",
      " 7   label        2200 non-null   object \n",
      "dtypes: float64(4), int64(3), object(1)\n",
      "memory usage: 137.6+ KB\n",
      "\n",
      "Missing values per column:\n",
      "N              0\n",
      "P              0\n",
      "K              0\n",
      "temperature    0\n",
      "humidity       0\n",
      "ph             0\n",
      "rainfall       0\n",
      "label          0\n",
      "dtype: int64\n"
     ]
    }
   ],
   "source": [
    "# Displaying Basic information about the Dataset.\n",
    "if crop is not None and not crop.empty:\n",
    "    print(\"Displaying basic information about the dataset:\")\n",
    "    crop.info()\n",
    "    # Showing  the number of missing values in each column.\n",
    "    print(\"\\nMissing values per column:\")\n",
    "    print(crop.isnull().sum())\n",
    "    \n",
    "    \n",
    "else:\n",
    "    print(\"The dataset is empty or not loaded.\")\n"
   ]
  },
  {
   "cell_type": "code",
   "execution_count": 56,
   "metadata": {},
   "outputs": [
    {
     "name": "stdout",
     "output_type": "stream",
     "text": [
      "Number of duplicated rows: 0\n",
      "No duplicates found in the dataset.\n"
     ]
    }
   ],
   "source": [
    "# Checking for the number of duplicated rows in the dataset\n",
    "duplicates = crop.duplicated().sum()\n",
    "print(f\"Number of duplicated rows: {duplicates}\")\n",
    "\n",
    "# Removing duplicate rows if present.\n",
    "if duplicates > 0:\n",
    "    print(\"Removing duplicate rows...\")\n",
    "    crop = crop.drop_duplicates()  # Remove duplicates\n",
    "    print(f\"Duplicates removed. The dataset now has {crop.shape[0]} rows.\")\n",
    "else:\n",
    "    print(\"No duplicates found in the dataset.\")\n"
   ]
  },
  {
   "cell_type": "code",
   "execution_count": 59,
   "metadata": {},
   "outputs": [
    {
     "name": "stdout",
     "output_type": "stream",
     "text": [
      "                 N            P            K  temperature     humidity  \\\n",
      "count  2200.000000  2200.000000  2200.000000  2200.000000  2200.000000   \n",
      "mean     50.551818    53.362727    48.149091    25.616244    71.481779   \n",
      "std      36.917334    32.985883    50.647931     5.063749    22.263812   \n",
      "min       0.000000     5.000000     5.000000     8.825675    14.258040   \n",
      "25%      21.000000    28.000000    20.000000    22.769375    60.261953   \n",
      "50%      37.000000    51.000000    32.000000    25.598693    80.473146   \n",
      "75%      84.250000    68.000000    49.000000    28.561654    89.948771   \n",
      "max     140.000000   145.000000   205.000000    43.675493    99.981876   \n",
      "\n",
      "                ph     rainfall  \n",
      "count  2200.000000  2200.000000  \n",
      "mean      6.469480   103.463655  \n",
      "std       0.773938    54.958389  \n",
      "min       3.504752    20.211267  \n",
      "25%       5.971693    64.551686  \n",
      "50%       6.425045    94.867624  \n",
      "75%       6.923643   124.267508  \n",
      "max       9.935091   298.560117  \n"
     ]
    }
   ],
   "source": [
    "# Summary statistics for numerical and categorical columns\n",
    "print(crop.describe())\n"
   ]
  },
  {
   "cell_type": "code",
   "execution_count": 60,
   "metadata": {},
   "outputs": [
    {
     "name": "stdout",
     "output_type": "stream",
     "text": [
      "column names in the dataset:\n",
      "['N', 'P', 'K', 'temperature', 'humidity', 'ph', 'rainfall', 'label']\n"
     ]
    }
   ],
   "source": [
    "# Displaying column names in a list format.\n",
    "print(\"column names in the dataset:\")\n",
    "\n",
    "print(list(crop.columns))\n"
   ]
  },
  {
   "cell_type": "code",
   "execution_count": 24,
   "metadata": {},
   "outputs": [
    {
     "data": {
      "text/plain": [
       "label\n",
       "rice           100\n",
       "maize          100\n",
       "chickpea       100\n",
       "kidneybeans    100\n",
       "pigeonpeas     100\n",
       "mothbeans      100\n",
       "mungbean       100\n",
       "blackgram      100\n",
       "lentil         100\n",
       "pomegranate    100\n",
       "banana         100\n",
       "mango          100\n",
       "grapes         100\n",
       "watermelon     100\n",
       "muskmelon      100\n",
       "apple          100\n",
       "orange         100\n",
       "papaya         100\n",
       "coconut        100\n",
       "cotton         100\n",
       "jute           100\n",
       "coffee         100\n",
       "Name: count, dtype: int64"
      ]
     },
     "execution_count": 24,
     "metadata": {},
     "output_type": "execute_result"
    }
   ],
   "source": [
    "# checking  the target distribution\n",
    "crop['label'].value_counts()"
   ]
  }
 ],
 "metadata": {
  "kernelspec": {
   "display_name": "Python 3",
   "language": "python",
   "name": "python3"
  },
  "language_info": {
   "codemirror_mode": {
    "name": "ipython",
    "version": 3
   },
   "file_extension": ".py",
   "mimetype": "text/x-python",
   "name": "python",
   "nbconvert_exporter": "python",
   "pygments_lexer": "ipython3",
   "version": "3.12.4"
  }
 },
 "nbformat": 4,
 "nbformat_minor": 2
}
